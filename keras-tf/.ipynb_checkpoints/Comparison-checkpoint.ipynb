{
 "cells": [
  {
   "cell_type": "code",
   "execution_count": 1,
   "metadata": {},
   "outputs": [],
   "source": [
    "import os\n",
    "os.chdir('..')"
   ]
  },
  {
   "cell_type": "code",
   "execution_count": 6,
   "metadata": {},
   "outputs": [],
   "source": [
    "import utils\n",
    "from keras.models import Sequential\n",
    "from keras.layers import Dense\n",
    "from keras.layers import Flatten\n",
    "from keras.layers import Dropout\n",
    "from keras.layers.convolutional import Conv1D\n",
    "from keras.layers.convolutional import MaxPooling1D, AveragePooling1D\n",
    "import tensorflow as tf"
   ]
  },
  {
   "cell_type": "code",
   "execution_count": 3,
   "metadata": {},
   "outputs": [
    {
     "name": "stdout",
     "output_type": "stream",
     "text": [
      "(7352, 128, 9) (7352, 1)\n",
      "(2947, 128, 9) (2947, 1)\n",
      "(7352, 128, 9) (7352, 6) (2947, 128, 9) (2947, 6)\n"
     ]
    }
   ],
   "source": [
    "trainX, trainy, testX, testy = utils.load_dataset()"
   ]
  },
  {
   "cell_type": "code",
   "execution_count": 4,
   "metadata": {},
   "outputs": [],
   "source": [
    "verbose, epochs, batch_size = True, 10, 32\n",
    "n_timesteps, n_features, n_outputs = trainX.shape[1], trainX.shape[2], trainy.shape[1]"
   ]
  },
  {
   "cell_type": "code",
   "execution_count": 5,
   "metadata": {},
   "outputs": [
    {
     "data": {
      "text/plain": [
       "128"
      ]
     },
     "execution_count": 5,
     "metadata": {},
     "output_type": "execute_result"
    }
   ],
   "source": [
    "n_timesteps"
   ]
  },
  {
   "cell_type": "markdown",
   "metadata": {},
   "source": [
    "## Default topology"
   ]
  },
  {
   "cell_type": "code",
   "execution_count": 8,
   "metadata": {},
   "outputs": [],
   "source": [
    "model = Sequential()\n",
    "model.add(Conv1D(filters=64, kernel_size=3, activation='relu', input_shape=(n_timesteps,n_features)))\n",
    "model.add(Conv1D(filters=64, kernel_size=3, activation='relu'))\n",
    "model.add(Dropout(0.5))\n",
    "model.add(MaxPooling1D(pool_size=2))\n",
    "model.add(Flatten())\n",
    "model.add(Dense(100, activation='relu'))\n",
    "model.add(Dense(n_outputs, activation='softmax'))"
   ]
  },
  {
   "cell_type": "code",
   "execution_count": 11,
   "metadata": {},
   "outputs": [
    {
     "name": "stdout",
     "output_type": "stream",
     "text": [
      "WARNING:tensorflow:From /home/eduardovera/.anaconda3/lib/python3.7/site-packages/keras/backend/tensorflow_backend.py:422: The name tf.global_variables is deprecated. Please use tf.compat.v1.global_variables instead.\n",
      "\n",
      "Epoch 1/10\n",
      "7352/7352 [==============================] - 3s 439us/step - loss: 0.3909 - accuracy: 0.8428\n",
      "Epoch 2/10\n",
      "7352/7352 [==============================] - 1s 135us/step - loss: 0.1352 - accuracy: 0.9455\n",
      "Epoch 3/10\n",
      "7352/7352 [==============================] - 1s 132us/step - loss: 0.1242 - accuracy: 0.9486\n",
      "Epoch 4/10\n",
      "7352/7352 [==============================] - 1s 127us/step - loss: 0.1055 - accuracy: 0.9553\n",
      "Epoch 5/10\n",
      "7352/7352 [==============================] - 1s 130us/step - loss: 0.1142 - accuracy: 0.9523\n",
      "Epoch 6/10\n",
      "7352/7352 [==============================] - 1s 131us/step - loss: 0.1094 - accuracy: 0.9544\n",
      "Epoch 7/10\n",
      "7352/7352 [==============================] - 1s 128us/step - loss: 0.0952 - accuracy: 0.9597\n",
      "Epoch 8/10\n",
      "7352/7352 [==============================] - 1s 129us/step - loss: 0.0961 - accuracy: 0.9581\n",
      "Epoch 9/10\n",
      "7352/7352 [==============================] - 1s 131us/step - loss: 0.0931 - accuracy: 0.9584\n",
      "Epoch 10/10\n",
      "7352/7352 [==============================] - 1s 132us/step - loss: 0.0761 - accuracy: 0.9663\n"
     ]
    },
    {
     "data": {
      "text/plain": [
       "<keras.callbacks.callbacks.History at 0x7f2adb0564d0>"
      ]
     },
     "execution_count": 11,
     "metadata": {},
     "output_type": "execute_result"
    }
   ],
   "source": [
    "model.compile(loss='categorical_crossentropy', optimizer='adam', metrics=['accuracy'])\n",
    "model.fit(trainX, trainy, epochs=epochs, batch_size=batch_size, verbose=verbose)"
   ]
  },
  {
   "cell_type": "code",
   "execution_count": 10,
   "metadata": {},
   "outputs": [
    {
     "name": "stdout",
     "output_type": "stream",
     "text": [
      "Model: \"sequential_2\"\n",
      "_________________________________________________________________\n",
      "Layer (type)                 Output Shape              Param #   \n",
      "=================================================================\n",
      "conv1d_3 (Conv1D)            (None, 126, 64)           1792      \n",
      "_________________________________________________________________\n",
      "conv1d_4 (Conv1D)            (None, 124, 64)           12352     \n",
      "_________________________________________________________________\n",
      "dropout_2 (Dropout)          (None, 124, 64)           0         \n",
      "_________________________________________________________________\n",
      "max_pooling1d_2 (MaxPooling1 (None, 62, 64)            0         \n",
      "_________________________________________________________________\n",
      "flatten_2 (Flatten)          (None, 3968)              0         \n",
      "_________________________________________________________________\n",
      "dense_3 (Dense)              (None, 100)               396900    \n",
      "_________________________________________________________________\n",
      "dense_4 (Dense)              (None, 6)                 606       \n",
      "=================================================================\n",
      "Total params: 411,650\n",
      "Trainable params: 411,650\n",
      "Non-trainable params: 0\n",
      "_________________________________________________________________\n"
     ]
    }
   ],
   "source": [
    "model.summary()"
   ]
  },
  {
   "cell_type": "markdown",
   "metadata": {},
   "source": [
    "## Custom Topology"
   ]
  },
  {
   "cell_type": "code",
   "execution_count": 16,
   "metadata": {},
   "outputs": [],
   "source": [
    "model = Sequential()\n",
    "model.add(Conv1D(filters=64, kernel_size=3, activation='tanh', input_shape=(n_timesteps,n_features)))\n",
    "model.add(Conv1D(filters=64, kernel_size=3, activation='tanh'))\n",
    "model.add(Dropout(0.5))\n",
    "model.add(AveragePooling1D(pool_size=2))\n",
    "model.add(Flatten())\n",
    "model.add(Dense(100, activation='tanh'))\n",
    "model.add(Dense(n_outputs, activation='softmax'))"
   ]
  },
  {
   "cell_type": "code",
   "execution_count": 17,
   "metadata": {},
   "outputs": [
    {
     "name": "stdout",
     "output_type": "stream",
     "text": [
      "Epoch 1/10\n",
      "7352/7352 [==============================] - 1s 153us/step - loss: 0.7617 - accuracy: 0.7210\n",
      "Epoch 2/10\n",
      "7352/7352 [==============================] - 1s 134us/step - loss: 0.2800 - accuracy: 0.9136\n",
      "Epoch 3/10\n",
      "7352/7352 [==============================] - 1s 131us/step - loss: 0.1906 - accuracy: 0.9378\n",
      "Epoch 4/10\n",
      "7352/7352 [==============================] - 1s 135us/step - loss: 0.1541 - accuracy: 0.9480\n",
      "Epoch 5/10\n",
      "7352/7352 [==============================] - 1s 131us/step - loss: 0.1315 - accuracy: 0.9509\n",
      "Epoch 6/10\n",
      "7352/7352 [==============================] - 1s 131us/step - loss: 0.1257 - accuracy: 0.9527\n",
      "Epoch 7/10\n",
      "7352/7352 [==============================] - 1s 136us/step - loss: 0.1161 - accuracy: 0.9553\n",
      "Epoch 8/10\n",
      "7352/7352 [==============================] - 1s 133us/step - loss: 0.1117 - accuracy: 0.9566\n",
      "Epoch 9/10\n",
      "7352/7352 [==============================] - 1s 130us/step - loss: 0.1030 - accuracy: 0.9597\n",
      "Epoch 10/10\n",
      "7352/7352 [==============================] - 1s 135us/step - loss: 0.1136 - accuracy: 0.9557\n"
     ]
    },
    {
     "data": {
      "text/plain": [
       "<keras.callbacks.callbacks.History at 0x7f2ac011bfd0>"
      ]
     },
     "execution_count": 17,
     "metadata": {},
     "output_type": "execute_result"
    }
   ],
   "source": [
    "model.compile(loss='categorical_crossentropy', optimizer='adam', metrics=['accuracy'])\n",
    "model.fit(trainX, trainy, epochs=epochs, batch_size=batch_size, verbose=verbose)"
   ]
  },
  {
   "cell_type": "code",
   "execution_count": null,
   "metadata": {},
   "outputs": [],
   "source": []
  },
  {
   "cell_type": "code",
   "execution_count": null,
   "metadata": {},
   "outputs": [],
   "source": []
  }
 ],
 "metadata": {
  "kernelspec": {
   "display_name": "Python 3",
   "language": "python",
   "name": "python3"
  },
  "language_info": {
   "codemirror_mode": {
    "name": "ipython",
    "version": 3
   },
   "file_extension": ".py",
   "mimetype": "text/x-python",
   "name": "python",
   "nbconvert_exporter": "python",
   "pygments_lexer": "ipython3",
   "version": "3.7.6"
  }
 },
 "nbformat": 4,
 "nbformat_minor": 4
}
